{
 "cells": [
  {
   "cell_type": "code",
   "execution_count": 1,
   "metadata": {},
   "outputs": [],
   "source": [
    "import pandas\n",
    "from pandas.plotting import scatter_matrix\n",
    "import matplotlib.pyplot as plt\n",
    "from sklearn import model_selection\n",
    "from sklearn.metrics import classification_report\n",
    "from sklearn.metrics import confusion_matrix\n",
    "from sklearn.metrics import accuracy_score\n",
    "from sklearn.linear_model import LogisticRegression\n",
    "from sklearn.tree import DecisionTreeClassifier\n",
    "from sklearn.neighbors import KNeighborsClassifier\n",
    "from sklearn.discriminant_analysis import LinearDiscriminantAnalysis\n",
    "from sklearn.naive_bayes import GaussianNB\n",
    "from sklearn.svm import SVC\n",
    "\n",
    "import warnings\n",
    "warnings.filterwarnings('ignore')"
   ]
  },
  {
   "cell_type": "code",
   "execution_count": 2,
   "metadata": {},
   "outputs": [],
   "source": [
    "dataset = pandas.read_csv(\"Pokemon.csv\")"
   ]
  },
  {
   "cell_type": "code",
   "execution_count": 3,
   "metadata": {},
   "outputs": [
    {
     "name": "stdout",
     "output_type": "stream",
     "text": [
      "   #                   Name Type 1  Type 2  Total  HP  Attack  Defense  \\\n",
      "0  1              Bulbasaur  Grass  Poison    318  45      49       49   \n",
      "1  2                Ivysaur  Grass  Poison    405  60      62       63   \n",
      "2  3               Venusaur  Grass  Poison    525  80      82       83   \n",
      "3  3  VenusaurMega Venusaur  Grass  Poison    625  80     100      123   \n",
      "4  4             Charmander   Fire     NaN    309  39      52       43   \n",
      "\n",
      "   Sp. Atk  Sp. Def  Speed  Generation  Legendary  \n",
      "0       65       65     45           1      False  \n",
      "1       80       80     60           1      False  \n",
      "2      100      100     80           1      False  \n",
      "3      122      120     80           1      False  \n",
      "4       60       50     65           1      False  \n"
     ]
    }
   ],
   "source": [
    "print(dataset.head(5))"
   ]
  },
  {
   "cell_type": "code",
   "execution_count": 4,
   "metadata": {},
   "outputs": [],
   "source": [
    "dataset = dataset[['HP','Attack','Defense','Sp. Atk','Sp. Def','Speed','Legendary','Generation','Type 1']]"
   ]
  },
  {
   "cell_type": "code",
   "execution_count": 5,
   "metadata": {},
   "outputs": [],
   "source": [
    "dataset = dataset[dataset['Type 1'] != 'Flying']"
   ]
  },
  {
   "cell_type": "code",
   "execution_count": 6,
   "metadata": {},
   "outputs": [
    {
     "name": "stdout",
     "output_type": "stream",
     "text": [
      "   HP  Attack  Defense  Sp. Atk  Sp. Def  Speed  Legendary  Generation Type 1\n",
      "0  45      49       49       65       65     45      False           1  Grass\n",
      "1  60      62       63       80       80     60      False           1  Grass\n",
      "2  80      82       83      100      100     80      False           1  Grass\n",
      "3  80     100      123      122      120     80      False           1  Grass\n",
      "4  39      52       43       60       50     65      False           1   Fire\n"
     ]
    }
   ],
   "source": [
    "print(dataset.head(5))"
   ]
  },
  {
   "cell_type": "code",
   "execution_count": 7,
   "metadata": {},
   "outputs": [],
   "source": [
    "array = dataset.values\n",
    "X = array[:,0:8]\n",
    "Y = array[:,8]\n",
    "validation_size = 0.20\n",
    "seed = 7\n",
    "X_train, X_validation, Y_train, Y_validation = model_selection.train_test_split(X, Y, test_size=validation_size, random_state=seed)"
   ]
  },
  {
   "cell_type": "code",
   "execution_count": 8,
   "metadata": {},
   "outputs": [],
   "source": [
    "seed = 7\n",
    "scoring = 'accuracy'"
   ]
  },
  {
   "cell_type": "code",
   "execution_count": 9,
   "metadata": {},
   "outputs": [
    {
     "name": "stdout",
     "output_type": "stream",
     "text": [
      "LR: 0.232832 (0.032424)\n",
      "LDA: 0.237540 (0.040118)\n",
      "KNN: 0.209059 (0.043557)\n",
      "CART: 0.157199 (0.026441)\n",
      "NB: 0.113212 (0.021731)\n",
      "SVM: 0.146242 (0.019982)\n"
     ]
    }
   ],
   "source": [
    "models = []\n",
    "models.append(('LR', LogisticRegression(solver='liblinear', multi_class='ovr')))\n",
    "models.append(('LDA', LinearDiscriminantAnalysis()))\n",
    "models.append(('KNN', KNeighborsClassifier()))\n",
    "models.append(('CART', DecisionTreeClassifier()))\n",
    "models.append(('NB', GaussianNB()))\n",
    "models.append(('SVM', SVC(gamma='auto')))\n",
    "# evaluate each model in turn\n",
    "results = []\n",
    "names = []\n",
    "for name, model in models:\n",
    "    kfold = model_selection.KFold(n_splits=8, random_state=seed)\n",
    "    cv_results = model_selection.cross_val_score(model, X_train, Y_train, cv=kfold, scoring=scoring)\n",
    "    results.append(cv_results)\n",
    "    names.append(name)\n",
    "    msg = \"%s: %f (%f)\" % (name, cv_results.mean(), cv_results.std())\n",
    "    print(msg)"
   ]
  },
  {
   "cell_type": "code",
   "execution_count": 10,
   "metadata": {},
   "outputs": [
    {
     "data": {
      "image/png": "[encoded data removed]",
      "text/plain": [
       "<Figure size 432x288 with 1 Axes>"
      ]
     },
     "metadata": {
      "needs_background": "light"
     },
     "output_type": "display_data"
    }
   ],
   "source": [
    "fig = plt.figure()\n",
    "fig.suptitle('Algorithm Comparison')\n",
    "ax = fig.add_subplot(111)\n",
    "plt.boxplot(results)\n",
    "ax.set_xticklabels(names)\n",
    "plt.show()"
   ]
  },
  {
   "cell_type": "code",
   "execution_count": 11,
   "metadata": {},
   "outputs": [],
   "source": [
    "from sklearn.model_selection import train_test_split"
   ]
  },
  {
   "cell_type": "code",
   "execution_count": 12,
   "metadata": {},
   "outputs": [],
   "source": [
    "X = dataset.drop('Type 1',axis=1)\n",
    "y = dataset['Type 1']"
   ]
  },
  {
   "cell_type": "code",
   "execution_count": 13,
   "metadata": {},
   "outputs": [],
   "source": [
    "X_train, X_test, y_train, y_test = train_test_split(X, y)"
   ]
  },
  {
   "cell_type": "code",
   "execution_count": 14,
   "metadata": {},
   "outputs": [],
   "source": [
    "from sklearn.preprocessing import StandardScaler\n",
    "scaler = StandardScaler()\n",
    "scaler.fit(X_train)\n",
    "StandardScaler(copy=True, with_mean=True, with_std=True)\n",
    "X_train = scaler.transform(X_train)\n",
    "X_test = scaler.transform(X_test)"
   ]
  },
  {
   "cell_type": "code",
   "execution_count": 15,
   "metadata": {},
   "outputs": [
    {
     "data": {
      "text/plain": [
       "MLPClassifier(activation='relu', alpha=0.0001, batch_size='auto', beta_1=0.9,\n",
       "       beta_2=0.999, early_stopping=False, epsilon=1e-08,\n",
       "       hidden_layer_sizes=(1000, 1000, 1000, 1000, 1000, 1000),\n",
       "       learning_rate='constant', learning_rate_init=0.001, max_iter=10000,\n",
       "       momentum=0.9, n_iter_no_change=10, nesterovs_momentum=True,\n",
       "       power_t=0.5, random_state=None, shuffle=True, solver='adam',\n",
       "       tol=0.0001, validation_fraction=0.1, verbose=False,\n",
       "       warm_start=False)"
      ]
     },
     "execution_count": 15,
     "metadata": {},
     "output_type": "execute_result"
    }
   ],
   "source": [
    "from sklearn.neural_network import MLPClassifier\n",
    "mlp = MLPClassifier(hidden_layer_sizes=(1000,1000,1000,1000,1000,1000),max_iter=10000)\n",
    "mlp.fit(X_train,y_train)"
   ]
  },
  {
   "cell_type": "code",
   "execution_count": 16,
   "metadata": {},
   "outputs": [
    {
     "name": "stdout",
     "output_type": "stream",
     "text": [
      "[[ 6  0  1  2  0  0  0  0  1  1  0  2  0  1  2  0  1]\n",
      " [ 1  4  0  0  0  0  0  0  0  0  0  1  0  0  1  0  2]\n",
      " [ 0  1  4  0  0  0  0  0  1  0  0  1  0  0  0  0  2]\n",
      " [ 0  0  0  3  0  0  1  1  0  0  0  0  0  1  1  0  2]\n",
      " [ 0  0  0  0  2  0  0  0  0  0  0  0  0  2  0  0  0]\n",
      " [ 0  0  0  0  0  1  0  0  0  0  0  1  0  0  0  0  1]\n",
      " [ 1  0  0  0  0  0  4  0  2  1  3  1  0  3  0  0  4]\n",
      " [ 1  1  0  1  0  0  0  2  0  0  0  0  0  1  0  0  1]\n",
      " [ 0  0  0  4  0  0  1  2  4  0  0  2  0  1  2  0  5]\n",
      " [ 0  0  0  0  0  0  0  0  1  5  1  0  0  0  0  0  1]\n",
      " [ 0  0  0  0  0  0  0  0  0  0  0  1  0  0  1  0  2]\n",
      " [ 2  0  1  0  0  1  0  0  2  2  0 11  2  0  0  0  6]\n",
      " [ 1  0  0  0  1  1  0  0  1  0  0  3  0  0  0  0  1]\n",
      " [ 0  0  1  2  0  0  1  1  1  0  1  0  0  8  0  0  2]\n",
      " [ 1  0  0  0  0  2  0  0  0  0  0  0  0  1  1  0  1]\n",
      " [ 1  0  0  0  0  0  1  2  0  0  0  0  0  0  0  3  1]\n",
      " [ 2  2  0  0  0  0  0  0  6  0  0  4  4  0  1  0  4]]\n",
      "              precision    recall  f1-score   support\n",
      "\n",
      "         Bug       0.38      0.35      0.36        17\n",
      "        Dark       0.50      0.44      0.47         9\n",
      "      Dragon       0.57      0.44      0.50         9\n",
      "    Electric       0.25      0.33      0.29         9\n",
      "       Fairy       0.67      0.50      0.57         4\n",
      "    Fighting       0.20      0.33      0.25         3\n",
      "        Fire       0.50      0.21      0.30        19\n",
      "       Ghost       0.25      0.29      0.27         7\n",
      "       Grass       0.21      0.19      0.20        21\n",
      "      Ground       0.56      0.62      0.59         8\n",
      "         Ice       0.00      0.00      0.00         4\n",
      "      Normal       0.41      0.41      0.41        27\n",
      "      Poison       0.00      0.00      0.00         8\n",
      "     Psychic       0.44      0.47      0.46        17\n",
      "        Rock       0.11      0.17      0.13         6\n",
      "       Steel       1.00      0.38      0.55         8\n",
      "       Water       0.11      0.17      0.14        23\n",
      "\n",
      "   micro avg       0.31      0.31      0.31       199\n",
      "   macro avg       0.36      0.31      0.32       199\n",
      "weighted avg       0.36      0.31      0.32       199\n",
      "\n"
     ]
    }
   ],
   "source": [
    "predictions = mlp.predict(X_test)\n",
    "from sklearn.metrics import classification_report,confusion_matrix\n",
    "print(confusion_matrix(y_test,predictions))\n",
    "print(classification_report(y_test,predictions))"
   ]
  },
  {
   "cell_type": "code",
   "execution_count": null,
   "metadata": {},
   "outputs": [],
   "source": []
  }
 ],
 "metadata": {
  "kernelspec": {
   "display_name": "Python 2",
   "language": "python",
   "name": "python2"
  },
  "language_info": {
   "codemirror_mode": {
    "name": "ipython",
    "version": 2
   },
   "file_extension": ".py",
   "mimetype": "text/x-python",
   "name": "python",
   "nbconvert_exporter": "python",
   "pygments_lexer": "ipython2",
   "version": "2.7.15rc1"
  }
 },
 "nbformat": 4,
 "nbformat_minor": 2
}
