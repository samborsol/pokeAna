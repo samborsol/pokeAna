{
 "cells": [
  {
   "cell_type": "markdown",
   "metadata": {},
   "source": [
    "This notebook analyzes data gathered from the Pokemon computer games. \n",
    "\n",
    "Section 1 reviews basic properties of the dataset.\n",
    "\n",
    "Section 2 uses 10-fold cross validation to predict Pokemon type. \n",
    "\n",
    "Section 3 uses a simple neural network to predict Pokemon type."
   ]
  },
  {
   "cell_type": "markdown",
   "metadata": {},
   "source": [
    "## Section 1"
   ]
  },
  {
   "cell_type": "code",
   "execution_count": 1,
   "metadata": {},
   "outputs": [],
   "source": [
    "import pandas as pd\n",
    "dataset = pd.read_csv(\"csv/Pokemon.csv\")"
   ]
  },
  {
   "cell_type": "code",
   "execution_count": 2,
   "metadata": {},
   "outputs": [
    {
     "name": "stdout",
     "output_type": "stream",
     "text": [
      "   #                   Name Type 1  Type 2  Total  HP  Attack  Defense  \\\n",
      "0  1              Bulbasaur  Grass  Poison    318  45      49       49   \n",
      "1  2                Ivysaur  Grass  Poison    405  60      62       63   \n",
      "2  3               Venusaur  Grass  Poison    525  80      82       83   \n",
      "3  3  VenusaurMega Venusaur  Grass  Poison    625  80     100      123   \n",
      "4  4             Charmander   Fire     NaN    309  39      52       43   \n",
      "\n",
      "   Sp. Atk  Sp. Def  Speed  Generation  Legendary  \n",
      "0       65       65     45           1      False  \n",
      "1       80       80     60           1      False  \n",
      "2      100      100     80           1      False  \n",
      "3      122      120     80           1      False  \n",
      "4       60       50     65           1      False  \n"
     ]
    }
   ],
   "source": [
    "print(dataset.head(5))"
   ]
  },
  {
   "cell_type": "code",
   "execution_count": 3,
   "metadata": {},
   "outputs": [],
   "source": [
    "import matplotlib.pyplot as plt"
   ]
  },
  {
   "cell_type": "markdown",
   "metadata": {},
   "source": [
    "## Section 2"
   ]
  },
  {
   "cell_type": "code",
   "execution_count": 4,
   "metadata": {},
   "outputs": [],
   "source": [
    "from sklearn import model_selection\n",
    "from sklearn.metrics import classification_report\n",
    "from sklearn.metrics import confusion_matrix\n",
    "from sklearn.metrics import accuracy_score\n",
    "from sklearn.linear_model import LogisticRegression\n",
    "from sklearn.tree import DecisionTreeClassifier\n",
    "from sklearn.neighbors import KNeighborsClassifier\n",
    "from sklearn.discriminant_analysis import LinearDiscriminantAnalysis\n",
    "from sklearn.naive_bayes import GaussianNB\n",
    "from sklearn.svm import SVC\n",
    "\n",
    "import warnings\n",
    "warnings.filterwarnings('ignore')"
   ]
  },
  {
   "cell_type": "markdown",
   "metadata": {},
   "source": [
    "Simplify the dataset. For now, we will only consider primary-type, i.e. \"Type 1\". The names and ID numbers are also unnecessary."
   ]
  },
  {
   "cell_type": "code",
   "execution_count": 5,
   "metadata": {},
   "outputs": [],
   "source": [
    "dataset = dataset[['HP','Attack','Defense','Sp. Atk','Sp. Def','Speed','Legendary','Generation','Type 1']]"
   ]
  },
  {
   "cell_type": "markdown",
   "metadata": {},
   "source": [
    "I remove pokemon with primary type 'flying' until I can incorporate more data. There are only three."
   ]
  },
  {
   "cell_type": "code",
   "execution_count": 6,
   "metadata": {},
   "outputs": [],
   "source": [
    "dataset = dataset[dataset['Type 1'] != 'Flying']"
   ]
  },
  {
   "cell_type": "markdown",
   "metadata": {},
   "source": [
    "Current dataset has these columns:"
   ]
  },
  {
   "cell_type": "code",
   "execution_count": 7,
   "metadata": {},
   "outputs": [
    {
     "name": "stdout",
     "output_type": "stream",
     "text": [
      "   HP  Attack  Defense  Sp. Atk  Sp. Def  Speed  Legendary  Generation Type 1\n",
      "0  45      49       49       65       65     45      False           1  Grass\n",
      "1  60      62       63       80       80     60      False           1  Grass\n",
      "2  80      82       83      100      100     80      False           1  Grass\n",
      "3  80     100      123      122      120     80      False           1  Grass\n",
      "4  39      52       43       60       50     65      False           1   Fire\n"
     ]
    }
   ],
   "source": [
    "print(dataset.head(5))"
   ]
  },
  {
   "cell_type": "markdown",
   "metadata": {},
   "source": [
    "Break the dataset into X and Y, where Y=Y(X). Furthermore, creating the training set and the validation set."
   ]
  },
  {
   "cell_type": "code",
   "execution_count": 8,
   "metadata": {},
   "outputs": [],
   "source": [
    "array = dataset.values\n",
    "X = array[:,0:8]\n",
    "Y = array[:,8]\n",
    "validation_size = 0.20\n",
    "seed = 7\n",
    "X_train, X_validation, Y_train, Y_validation = model_selection.train_test_split(X, Y, test_size=validation_size, random_state=seed)"
   ]
  },
  {
   "cell_type": "markdown",
   "metadata": {},
   "source": [
    "The following code applies a variety of machine learning algorithms to the dataset. These algorithms will use the ability scores of a given pokemon to predict its primary type."
   ]
  },
  {
   "cell_type": "code",
   "execution_count": 9,
   "metadata": {},
   "outputs": [
    {
     "name": "stdout",
     "output_type": "stream",
     "text": [
      "LR: 0.232832 (0.032424)\n",
      "LDA: 0.237540 (0.040118)\n",
      "KNN: 0.209059 (0.043557)\n",
      "CART: 0.166634 (0.029739)\n",
      "NB: 0.113212 (0.021731)\n",
      "SVM: 0.146242 (0.019982)\n"
     ]
    }
   ],
   "source": [
    "models = []\n",
    "models.append(('LR', LogisticRegression(solver='liblinear', multi_class='ovr')))\n",
    "models.append(('LDA', LinearDiscriminantAnalysis()))\n",
    "models.append(('KNN', KNeighborsClassifier()))\n",
    "models.append(('CART', DecisionTreeClassifier()))\n",
    "models.append(('NB', GaussianNB()))\n",
    "models.append(('SVM', SVC(gamma='auto')))\n",
    "# evaluate each model in turn\n",
    "results = []\n",
    "names = []\n",
    "#set parameters\n",
    "scoring = 'accuracy'\n",
    "for name, model in models:\n",
    "    kfold = model_selection.KFold(n_splits=8, random_state=seed)\n",
    "    cv_results = model_selection.cross_val_score(model, X_train, Y_train, cv=kfold, scoring=scoring)\n",
    "    results.append(cv_results)\n",
    "    names.append(name)\n",
    "    msg = \"%s: %f (%f)\" % (name, cv_results.mean(), cv_results.std())\n",
    "    print(msg)"
   ]
  },
  {
   "cell_type": "code",
   "execution_count": 10,
   "metadata": {},
   "outputs": [
    {
     "data": {
      "image/png": "[encoded data removed]",
      "text/plain": [
       "<Figure size 432x288 with 1 Axes>"
      ]
     },
     "metadata": {
      "needs_background": "light"
     },
     "output_type": "display_data"
    }
   ],
   "source": [
    "fig = plt.figure()\n",
    "fig.suptitle('Algorithm Comparison')\n",
    "ax = fig.add_subplot(111)\n",
    "plt.boxplot(results)\n",
    "ax.set_xticklabels(names)\n",
    "plt.show()"
   ]
  },
  {
   "cell_type": "markdown",
   "metadata": {},
   "source": [
    "## Section 3"
   ]
  },
  {
   "cell_type": "code",
   "execution_count": 11,
   "metadata": {},
   "outputs": [],
   "source": [
    "from sklearn.model_selection import train_test_split"
   ]
  },
  {
   "cell_type": "code",
   "execution_count": 12,
   "metadata": {},
   "outputs": [],
   "source": [
    "X = dataset.drop('Type 1',axis=1)\n",
    "y = dataset['Type 1']"
   ]
  },
  {
   "cell_type": "code",
   "execution_count": 13,
   "metadata": {},
   "outputs": [],
   "source": [
    "X_train, X_test, y_train, y_test = train_test_split(X, y)"
   ]
  },
  {
   "cell_type": "code",
   "execution_count": 14,
   "metadata": {},
   "outputs": [],
   "source": [
    "from sklearn.preprocessing import StandardScaler\n",
    "scaler = StandardScaler()\n",
    "scaler.fit(X_train)\n",
    "StandardScaler(copy=True, with_mean=True, with_std=True)\n",
    "X_train = scaler.transform(X_train)\n",
    "X_test = scaler.transform(X_test)"
   ]
  },
  {
   "cell_type": "code",
   "execution_count": 32,
   "metadata": {},
   "outputs": [
    {
     "name": "stdout",
     "output_type": "stream",
     "text": [
      "              precision    recall  f1-score   support\n",
      "\n",
      "         Bug       0.22      0.40      0.29        15\n",
      "        Dark       0.00      0.00      0.00        12\n",
      "      Dragon       0.25      0.12      0.17         8\n",
      "    Electric       0.33      0.27      0.30        11\n",
      "       Fairy       0.33      0.33      0.33         3\n",
      "    Fighting       0.33      0.14      0.20         7\n",
      "        Fire       0.00      0.00      0.00        16\n",
      "       Ghost       0.00      0.00      0.00         9\n",
      "       Grass       0.14      0.04      0.07        23\n",
      "      Ground       0.40      0.33      0.36         6\n",
      "         Ice       0.00      0.00      0.00         5\n",
      "      Normal       0.40      0.67      0.50        24\n",
      "      Poison       0.00      0.00      0.00         8\n",
      "     Psychic       0.07      0.08      0.07        13\n",
      "        Rock       0.14      0.29      0.19         7\n",
      "       Steel       0.00      0.00      0.00         7\n",
      "       Water       0.11      0.28      0.15        25\n",
      "\n",
      "   micro avg       0.21      0.21      0.21       199\n",
      "   macro avg       0.16      0.17      0.15       199\n",
      "weighted avg       0.16      0.21      0.17       199\n",
      "\n"
     ]
    }
   ],
   "source": [
    "from sklearn.neural_network import MLPClassifier\n",
    "mlp = MLPClassifier(hidden_layer_sizes=(10,10,10),max_iter=1000,activation='identity')\n",
    "mlp.fit(X_train,y_train)\n",
    "predictions = mlp.predict(X_test)\n",
    "from sklearn.metrics import classification_report,confusion_matrix\n",
    "#print(confusion_matrix(y_test,predictions))\n",
    "print(classification_report(y_test,predictions))"
   ]
  },
  {
   "cell_type": "code",
   "execution_count": 36,
   "metadata": {},
   "outputs": [
    {
     "name": "stdout",
     "output_type": "stream",
     "text": [
      "              precision    recall  f1-score   support\n",
      "\n",
      "         Bug       0.00      0.00      0.00        15\n",
      "        Dark       0.00      0.00      0.00        12\n",
      "      Dragon       0.00      0.00      0.00         8\n",
      "    Electric       0.00      0.00      0.00        11\n",
      "       Fairy       0.00      0.00      0.00         3\n",
      "    Fighting       0.00      0.00      0.00         7\n",
      "        Fire       0.00      0.00      0.00        16\n",
      "       Ghost       0.00      0.00      0.00         9\n",
      "       Grass       0.00      0.00      0.00        23\n",
      "      Ground       0.00      0.00      0.00         6\n",
      "         Ice       0.00      0.00      0.00         5\n",
      "      Normal       0.00      0.00      0.00        24\n",
      "      Poison       0.00      0.00      0.00         8\n",
      "     Psychic       0.00      0.00      0.00        13\n",
      "        Rock       0.00      0.00      0.00         7\n",
      "       Steel       0.00      0.00      0.00         7\n",
      "       Water       0.13      1.00      0.22        25\n",
      "\n",
      "   micro avg       0.13      0.13      0.13       199\n",
      "   macro avg       0.01      0.06      0.01       199\n",
      "weighted avg       0.02      0.13      0.03       199\n",
      "\n"
     ]
    }
   ],
   "source": [
    "from sklearn.neural_network import MLPClassifier\n",
    "mlp = MLPClassifier(hidden_layer_sizes=(10,10,10),max_iter=1000,activation='logistic')\n",
    "mlp.fit(X_train,y_train)\n",
    "predictions = mlp.predict(X_test)\n",
    "from sklearn.metrics import classification_report,confusion_matrix\n",
    "#print(confusion_matrix(y_test,predictions))\n",
    "print(classification_report(y_test,predictions))"
   ]
  },
  {
   "cell_type": "code",
   "execution_count": 37,
   "metadata": {},
   "outputs": [
    {
     "name": "stdout",
     "output_type": "stream",
     "text": [
      "              precision    recall  f1-score   support\n",
      "\n",
      "         Bug       0.13      0.13      0.13        15\n",
      "        Dark       0.00      0.00      0.00        12\n",
      "      Dragon       0.22      0.25      0.24         8\n",
      "    Electric       0.25      0.27      0.26        11\n",
      "       Fairy       0.00      0.00      0.00         3\n",
      "    Fighting       0.00      0.00      0.00         7\n",
      "        Fire       0.08      0.06      0.07        16\n",
      "       Ghost       0.00      0.00      0.00         9\n",
      "       Grass       0.10      0.04      0.06        23\n",
      "      Ground       0.20      0.17      0.18         6\n",
      "         Ice       0.00      0.00      0.00         5\n",
      "      Normal       0.38      0.62      0.48        24\n",
      "      Poison       0.00      0.00      0.00         8\n",
      "     Psychic       0.24      0.38      0.29        13\n",
      "        Rock       0.17      0.14      0.15         7\n",
      "       Steel       0.09      0.14      0.11         7\n",
      "       Water       0.09      0.16      0.11        25\n",
      "\n",
      "   micro avg       0.18      0.18      0.18       199\n",
      "   macro avg       0.11      0.14      0.12       199\n",
      "weighted avg       0.14      0.18      0.15       199\n",
      "\n"
     ]
    }
   ],
   "source": [
    "from sklearn.neural_network import MLPClassifier\n",
    "mlp = MLPClassifier(hidden_layer_sizes=(10,10,10),max_iter=1000,activation='tanh')\n",
    "mlp.fit(X_train,y_train)\n",
    "predictions = mlp.predict(X_test)\n",
    "from sklearn.metrics import classification_report,confusion_matrix\n",
    "#print(confusion_matrix(y_test,predictions))\n",
    "print(classification_report(y_test,predictions))"
   ]
  },
  {
   "cell_type": "code",
   "execution_count": 38,
   "metadata": {},
   "outputs": [
    {
     "name": "stdout",
     "output_type": "stream",
     "text": [
      "              precision    recall  f1-score   support\n",
      "\n",
      "         Bug       0.38      0.60      0.46        15\n",
      "        Dark       0.00      0.00      0.00        12\n",
      "      Dragon       0.43      0.38      0.40         8\n",
      "    Electric       0.24      0.36      0.29        11\n",
      "       Fairy       0.00      0.00      0.00         3\n",
      "    Fighting       1.00      0.43      0.60         7\n",
      "        Fire       0.12      0.06      0.08        16\n",
      "       Ghost       0.25      0.33      0.29         9\n",
      "       Grass       0.29      0.09      0.13        23\n",
      "      Ground       0.33      0.17      0.22         6\n",
      "         Ice       0.00      0.00      0.00         5\n",
      "      Normal       0.30      0.46      0.36        24\n",
      "      Poison       0.25      0.12      0.17         8\n",
      "     Psychic       0.27      0.23      0.25        13\n",
      "        Rock       0.10      0.14      0.12         7\n",
      "       Steel       0.17      0.14      0.15         7\n",
      "       Water       0.17      0.32      0.22        25\n",
      "\n",
      "   micro avg       0.26      0.26      0.26       199\n",
      "   macro avg       0.25      0.23      0.22       199\n",
      "weighted avg       0.25      0.26      0.23       199\n",
      "\n"
     ]
    }
   ],
   "source": [
    "from sklearn.neural_network import MLPClassifier\n",
    "mlp = MLPClassifier(hidden_layer_sizes=(10,10,10),max_iter=1000,activation='relu')\n",
    "mlp.fit(X_train,y_train)\n",
    "predictions = mlp.predict(X_test)\n",
    "from sklearn.metrics import classification_report,confusion_matrix\n",
    "#print(confusion_matrix(y_test,predictions))\n",
    "print(classification_report(y_test,predictions))"
   ]
  },
  {
   "cell_type": "code",
   "execution_count": null,
   "metadata": {},
   "outputs": [],
   "source": []
  }
 ],
 "metadata": {
  "kernelspec": {
   "display_name": "Python 2",
   "language": "python",
   "name": "python2"
  },
  "language_info": {
   "codemirror_mode": {
    "name": "ipython",
    "version": 2
   },
   "file_extension": ".py",
   "mimetype": "text/x-python",
   "name": "python",
   "nbconvert_exporter": "python",
   "pygments_lexer": "ipython2",
   "version": "2.7.15rc1"
  }
 },
 "nbformat": 4,
 "nbformat_minor": 2
}
